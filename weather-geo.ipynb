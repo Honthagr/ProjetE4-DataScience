{
 "cells": [
  {
   "cell_type": "code",
   "execution_count": 1,
   "metadata": {},
   "outputs": [],
   "source": [
    "import pandas as pd\n",
    "import numpy as np\n",
    "import netCDF4 as nc\n",
    "import pandas as pd"
   ]
  },
  {
   "cell_type": "code",
   "execution_count": 2,
   "metadata": {},
   "outputs": [
    {
     "name": "stdout",
     "output_type": "stream",
     "text": [
      "Noms des variables disponibles dans le fichier NetCDF :\n",
      "dict_keys(['RelativeHumidity', 'Temperature', 'TotalPrecipitation', 'WindDirection', 'WindSpeed', 'latitude', 'longitude', 'point', 'ref_datetime', 'valid_datetime'])\n",
      "RelativeHumidity : (4467, 93, 7)\n",
      "Temperature : (4467, 93, 7)\n",
      "TotalPrecipitation : (4467, 93, 7)\n",
      "WindDirection : (4467, 93, 7)\n",
      "WindSpeed : (4467, 93, 7)\n",
      "latitude : (7,)\n",
      "longitude : (7,)\n",
      "point : (7,)\n",
      "ref_datetime : (4467,)\n",
      "valid_datetime : (93,)\n"
     ]
    }
   ],
   "source": [
    "\n",
    "# Chemin vers le fichier NetCDF\n",
    "fichier_nc = 'source/dwd_icon_eu_TRAIN/dwd_icon_eu_demand_20200920_20231027.nc'\n",
    "\n",
    "# Ouvrir le fichier NetCDF\n",
    "dataset_1 = nc.Dataset(fichier_nc)\n",
    "\n",
    "# Afficher les noms des variables disponibles\n",
    "print(\"Noms des variables disponibles dans le fichier NetCDF :\")\n",
    "variables_1 = dataset_1.variables.keys()\n",
    "print(dataset_1.variables.keys())\n",
    "\n",
    "# Choisissez les variables que vous souhaitez extraire et convertir en CSV\n",
    "# Supposons que vous voulez extraire la variable 'temperature' et 'humidity'\n",
    "\n",
    "for var in variables_1:\n",
    "    print( f\"{var} : {dataset_1.variables[var].shape}\")\n",
    "    \n",
    "# Extraire les variables\n",
    "RelativeHumidity = dataset_1.variables['RelativeHumidity'][:]\n",
    "Temperature = dataset_1.variables['Temperature'][:]\n",
    "TotalPrecipitation = dataset_1.variables['TotalPrecipitation'][:]\n",
    "WindDirection = dataset_1.variables['WindDirection'][:]\n",
    "WindSpeed = dataset_1.variables['WindSpeed'][:]\n",
    "latitude = np.repeat(dataset_1.variables['latitude'][:], 4467 * 93)  # Répéter les valeurs pour chaque combinaison\n",
    "longitude = np.repeat(dataset_1.variables['longitude'][:], 4467 * 93)  # Répéter les valeurs pour chaque combinaison\n",
    "point = np.repeat(dataset_1.variables['point'][:], 4467 * 93)  # Répéter les valeurs pour chaque combinaison\n",
    "ref_datetime = np.repeat(dataset_1.variables['ref_datetime'][:], 93 * 7)  # Répéter les valeurs pour chaque combinaison\n",
    "valid_datetime = np.tile(dataset_1.variables['valid_datetime'][:], 4467 * 7)  # Répéter chaque valeur pour chaque 4467\n",
    "\n",
    "# Créer un DataFrame pandas\n",
    "df = pd.DataFrame({\n",
    "    'RelativeHumidity': RelativeHumidity.flatten(),\n",
    "    'Temperature': Temperature.flatten(),\n",
    "    'TotalPrecipitation': TotalPrecipitation.flatten(),\n",
    "    'WindDirection': WindDirection.flatten(),\n",
    "    'WindSpeed': WindSpeed.flatten(),\n",
    "    'latitude': latitude,\n",
    "    'longitude': longitude,\n",
    "    'point': point,\n",
    "    'ref_datetime': ref_datetime,\n",
    "    'valid_datetime': valid_datetime\n",
    "})\n",
    "\n",
    "# # Exporter le DataFrame en CSV\n",
    "# fichier_csv = 'dwd_icon_eu_demand.csv'\n",
    "# df.to_csv(fichier_csv, index=False)\n",
    "\n",
    "# print(\"Conversion terminée. Les données ont été enregistrées dans\", fichier_csv)\n"
   ]
  },
  {
   "cell_type": "code",
   "execution_count": 3,
   "metadata": {},
   "outputs": [
    {
     "data": {
      "text/plain": [
       "masked_array(data=[0, 1, 2, 3, 4, 5, 6],\n",
       "             mask=False,\n",
       "       fill_value=999999,\n",
       "            dtype=int64)"
      ]
     },
     "execution_count": 3,
     "metadata": {},
     "output_type": "execute_result"
    }
   ],
   "source": [
    "dataset_1.variables['point'][:]"
   ]
  },
  {
   "cell_type": "code",
   "execution_count": 4,
   "metadata": {},
   "outputs": [
    {
     "data": {
      "text/plain": [
       "masked_array(data=[-17478, -17472, -17466, ...,   9678,   9684,   9690],\n",
       "             mask=False,\n",
       "       fill_value=999999,\n",
       "            dtype=int64)"
      ]
     },
     "execution_count": 4,
     "metadata": {},
     "output_type": "execute_result"
    }
   ],
   "source": [
    "dataset_1.variables['ref_datetime'][:]"
   ]
  },
  {
   "cell_type": "code",
   "execution_count": 5,
   "metadata": {},
   "outputs": [
    {
     "name": "stdout",
     "output_type": "stream",
     "text": [
      "Noms des variables disponibles dans le fichier NetCDF :\n",
      "dict_keys(['RelativeHumidity', 'Temperature', 'WindDirection', 'WindDirection:100', 'WindSpeed', 'WindSpeed:100', 'latitude', 'longitude', 'ref_datetime', 'valid_datetime'])\n",
      "(4467, 93, 6, 6)\n",
      "(4467, 93, 6, 6)\n",
      "(4467, 93, 6, 6)\n",
      "(4467, 93, 6, 6)\n",
      "(4467, 93, 6, 6)\n",
      "(4467, 93, 6, 6)\n",
      "(6,)\n",
      "(6,)\n",
      "(4467,)\n",
      "(93,)\n"
     ]
    }
   ],
   "source": [
    "\n",
    "# Chemin vers le fichier NetCDF\n",
    "fichier_nc = 'source\\dwd_icon_eu_TRAIN\\dwd_icon_eu_hornsea_1_20200920_20231027.nc'\n",
    "\n",
    "# Ouvrir le fichier NetCDF\n",
    "dataset_2 = nc.Dataset(fichier_nc)\n",
    "\n",
    "# Afficher les noms des variables disponibles\n",
    "print(\"Noms des variables disponibles dans le fichier NetCDF :\")\n",
    "variables_2 = dataset_2.variables.keys()\n",
    "print(dataset_2.variables.keys())\n",
    "\n",
    "# Choisissez les variables que vous souhaitez extraire et convertir en CSV\n",
    "# Supposons que vous voulez extraire la variable 'temperature' et 'humidity'\n",
    "\n",
    "for var in variables_2:\n",
    "    print(dataset_2.variables[var].shape)\n",
    "    \n",
    "# Extraire les variables\n",
    "RelativeHumidity = dataset_2.variables['RelativeHumidity'][:]\n",
    "Temperature = dataset_2.variables['Temperature'][:]\n",
    "WindDirection_100 = dataset_2.variables['WindDirection:100'][:]\n",
    "WindDirection = dataset_2.variables['WindDirection'][:]\n",
    "WindSpeed = dataset_2.variables['WindSpeed'][:]\n",
    "WindSpeed_100 = dataset_2.variables['WindSpeed:100'][:]  # Répéter les valeurs pour chaque combinaison\n",
    "\n",
    "latitude = np.repeat(dataset_2.variables['latitude'][:], 4467 * 93 * 6)  # Répéter les valeurs pour chaque combinaison\n",
    "longitude = np.repeat(dataset_2.variables['longitude'][:], 4467 * 93 * 6)  # Répéter les valeurs pour chaque combinaison\n",
    "\n",
    "ref_datetime = np.repeat(dataset_2.variables['ref_datetime'][:], 93 * 6 * 6)  # Répéter les valeurs pour chaque combinaison\n",
    "valid_datetime = np.tile(dataset_2.variables['valid_datetime'][:], 4467 * 6 * 6)  # Répéter chaque valeur pour chaque 4467\n",
    "\n",
    "# Créer un DataFrame pandas\n",
    "df = pd.DataFrame({\n",
    "    'RelativeHumidity': RelativeHumidity.flatten(),\n",
    "    'Temperature': Temperature.flatten(),\n",
    "    'WindDirection_100': WindDirection_100.flatten(),\n",
    "    'WindDirection': WindDirection.flatten(),\n",
    "    'WindSpeed': WindSpeed.flatten(),\n",
    "    'WindSpeed_100': WindSpeed_100.flatten(),\n",
    "    \n",
    "    'latitude': latitude,\n",
    "    'longitude': longitude,\n",
    "    \n",
    "    'ref_datetime': ref_datetime,\n",
    "    'valid_datetime': valid_datetime\n",
    "})\n",
    "\n",
    "# # Exporter le DataFrame en CSV\n",
    "# fichier_csv = 'dwd_icon_eu_hornsea.csv'\n",
    "# df.to_csv(fichier_csv, index=False)\n",
    "\n",
    "# print(\"Conversion terminée. Les données ont été enregistrées dans\", fichier_csv)\n"
   ]
  },
  {
   "cell_type": "code",
   "execution_count": 6,
   "metadata": {},
   "outputs": [
    {
     "data": {
      "text/plain": [
       "<class 'netCDF4._netCDF4.Dataset'>\n",
       "root group (NETCDF4 data model, file format HDF5):\n",
       "    dimensions(sizes): ref_datetime(4467), valid_datetime(93), latitude(6), longitude(6)\n",
       "    variables(dimensions): float32 RelativeHumidity(ref_datetime, valid_datetime, latitude, longitude), float32 Temperature(ref_datetime, valid_datetime, latitude, longitude), float32 WindDirection(ref_datetime, valid_datetime, latitude, longitude), float32 WindDirection:100(ref_datetime, valid_datetime, latitude, longitude), float32 WindSpeed(ref_datetime, valid_datetime, latitude, longitude), float32 WindSpeed:100(ref_datetime, valid_datetime, latitude, longitude), float64 latitude(latitude), float64 longitude(longitude), int64 ref_datetime(ref_datetime), int64 valid_datetime(valid_datetime)\n",
       "    groups: "
      ]
     },
     "execution_count": 6,
     "metadata": {},
     "output_type": "execute_result"
    }
   ],
   "source": [
    "dataset_2"
   ]
  },
  {
   "cell_type": "code",
   "execution_count": null,
   "metadata": {},
   "outputs": [],
   "source": []
  }
 ],
 "metadata": {
  "kernelspec": {
   "display_name": "Python 3",
   "language": "python",
   "name": "python3"
  },
  "language_info": {
   "codemirror_mode": {
    "name": "ipython",
    "version": 3
   },
   "file_extension": ".py",
   "mimetype": "text/x-python",
   "name": "python",
   "nbconvert_exporter": "python",
   "pygments_lexer": "ipython3",
   "version": "3.9.13"
  }
 },
 "nbformat": 4,
 "nbformat_minor": 2
}
