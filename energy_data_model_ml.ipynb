{
 "cells": [
  {
   "cell_type": "code",
   "execution_count": 1,
   "metadata": {},
   "outputs": [],
   "source": [
    "import numpy as np\n",
    "import pandas as pd\n",
    "import matplotlib.pyplot as plt\n",
    "from rich import print\n",
    "from sklearn.metrics import mean_pinball_loss, mean_squared_error, mean_absolute_error\n",
    "from sklearn.model_selection import train_test_split\n",
    "from sklearn.ensemble import GradientBoostingRegressor\n",
    "from sklearn.ensemble import RandomForestRegressor\n",
    "from sklearn.linear_model import LinearRegression\n",
    "from sklearn.model_selection import GridSearchCV\n",
    "from sklearn.preprocessing import StandardScaler"
   ]
  },
  {
   "cell_type": "code",
   "execution_count": 2,
   "metadata": {},
   "outputs": [
    {
     "data": {
      "text/html": [
       "<div>\n",
       "<style scoped>\n",
       "    .dataframe tbody tr th:only-of-type {\n",
       "        vertical-align: middle;\n",
       "    }\n",
       "\n",
       "    .dataframe tbody tr th {\n",
       "        vertical-align: top;\n",
       "    }\n",
       "\n",
       "    .dataframe thead th {\n",
       "        text-align: right;\n",
       "    }\n",
       "</style>\n",
       "<table border=\"1\" class=\"dataframe\">\n",
       "  <thead>\n",
       "    <tr style=\"text-align: right;\">\n",
       "      <th></th>\n",
       "      <th>Unnamed: 0.1</th>\n",
       "      <th>Unnamed: 0</th>\n",
       "      <th>ref_datetime</th>\n",
       "      <th>valid_datetime</th>\n",
       "      <th>SolarDownwardRadiation</th>\n",
       "      <th>Temperature</th>\n",
       "      <th>CloudCover</th>\n",
       "      <th>dtm</th>\n",
       "      <th>MIP</th>\n",
       "      <th>Solar_MW</th>\n",
       "      <th>Solar_capacity_mwp</th>\n",
       "      <th>Solar_installedcapacity_mwp</th>\n",
       "      <th>Wind_MW</th>\n",
       "      <th>SS_Price</th>\n",
       "      <th>boa_MWh</th>\n",
       "      <th>DA_Price</th>\n",
       "      <th>Wind_MWh_credit</th>\n",
       "      <th>Solar_MWh_credit</th>\n",
       "    </tr>\n",
       "  </thead>\n",
       "  <tbody>\n",
       "    <tr>\n",
       "      <th>0</th>\n",
       "      <td>0</td>\n",
       "      <td>0</td>\n",
       "      <td>2020-09-20 00:00:00+00:00</td>\n",
       "      <td>2020-09-20 00:00:00+00:00</td>\n",
       "      <td>0.0</td>\n",
       "      <td>13.646173</td>\n",
       "      <td>0.450405</td>\n",
       "      <td>2020-09-20 00:00:00+00:00</td>\n",
       "      <td>20.06</td>\n",
       "      <td>0.0</td>\n",
       "      <td>2108.489754</td>\n",
       "      <td>2206.064655</td>\n",
       "      <td>996.284</td>\n",
       "      <td>2.50</td>\n",
       "      <td>0.0</td>\n",
       "      <td>32.17</td>\n",
       "      <td>498.142</td>\n",
       "      <td>0.0</td>\n",
       "    </tr>\n",
       "    <tr>\n",
       "      <th>1</th>\n",
       "      <td>1</td>\n",
       "      <td>1</td>\n",
       "      <td>2020-09-20 00:00:00+00:00</td>\n",
       "      <td>2020-09-20 00:30:00+00:00</td>\n",
       "      <td>0.0</td>\n",
       "      <td>13.658508</td>\n",
       "      <td>0.472211</td>\n",
       "      <td>2020-09-20 00:30:00+00:00</td>\n",
       "      <td>19.77</td>\n",
       "      <td>0.0</td>\n",
       "      <td>2108.489754</td>\n",
       "      <td>2206.064655</td>\n",
       "      <td>957.576</td>\n",
       "      <td>15.00</td>\n",
       "      <td>0.0</td>\n",
       "      <td>32.17</td>\n",
       "      <td>478.788</td>\n",
       "      <td>0.0</td>\n",
       "    </tr>\n",
       "    <tr>\n",
       "      <th>2</th>\n",
       "      <td>2</td>\n",
       "      <td>2</td>\n",
       "      <td>2020-09-20 00:00:00+00:00</td>\n",
       "      <td>2020-09-20 01:00:00+00:00</td>\n",
       "      <td>0.0</td>\n",
       "      <td>13.670843</td>\n",
       "      <td>0.494018</td>\n",
       "      <td>2020-09-20 01:00:00+00:00</td>\n",
       "      <td>28.68</td>\n",
       "      <td>0.0</td>\n",
       "      <td>2108.489754</td>\n",
       "      <td>2206.064655</td>\n",
       "      <td>941.044</td>\n",
       "      <td>47.95</td>\n",
       "      <td>0.0</td>\n",
       "      <td>32.00</td>\n",
       "      <td>470.522</td>\n",
       "      <td>0.0</td>\n",
       "    </tr>\n",
       "    <tr>\n",
       "      <th>3</th>\n",
       "      <td>3</td>\n",
       "      <td>3</td>\n",
       "      <td>2020-09-20 00:00:00+00:00</td>\n",
       "      <td>2020-09-20 01:30:00+00:00</td>\n",
       "      <td>0.0</td>\n",
       "      <td>13.732101</td>\n",
       "      <td>0.520214</td>\n",
       "      <td>2020-09-20 01:30:00+00:00</td>\n",
       "      <td>28.97</td>\n",
       "      <td>0.0</td>\n",
       "      <td>2108.489754</td>\n",
       "      <td>2206.064655</td>\n",
       "      <td>964.366</td>\n",
       "      <td>29.13</td>\n",
       "      <td>0.0</td>\n",
       "      <td>32.00</td>\n",
       "      <td>482.183</td>\n",
       "      <td>0.0</td>\n",
       "    </tr>\n",
       "    <tr>\n",
       "      <th>4</th>\n",
       "      <td>4</td>\n",
       "      <td>4</td>\n",
       "      <td>2020-09-20 00:00:00+00:00</td>\n",
       "      <td>2020-09-20 02:00:00+00:00</td>\n",
       "      <td>0.0</td>\n",
       "      <td>13.793360</td>\n",
       "      <td>0.546410</td>\n",
       "      <td>2020-09-20 02:00:00+00:00</td>\n",
       "      <td>28.19</td>\n",
       "      <td>0.0</td>\n",
       "      <td>2108.489754</td>\n",
       "      <td>2206.064655</td>\n",
       "      <td>918.432</td>\n",
       "      <td>28.95</td>\n",
       "      <td>0.0</td>\n",
       "      <td>31.99</td>\n",
       "      <td>459.216</td>\n",
       "      <td>0.0</td>\n",
       "    </tr>\n",
       "  </tbody>\n",
       "</table>\n",
       "</div>"
      ],
      "text/plain": [
       "   Unnamed: 0.1  Unnamed: 0               ref_datetime  \\\n",
       "0             0           0  2020-09-20 00:00:00+00:00   \n",
       "1             1           1  2020-09-20 00:00:00+00:00   \n",
       "2             2           2  2020-09-20 00:00:00+00:00   \n",
       "3             3           3  2020-09-20 00:00:00+00:00   \n",
       "4             4           4  2020-09-20 00:00:00+00:00   \n",
       "\n",
       "              valid_datetime  SolarDownwardRadiation  Temperature  CloudCover  \\\n",
       "0  2020-09-20 00:00:00+00:00                     0.0    13.646173    0.450405   \n",
       "1  2020-09-20 00:30:00+00:00                     0.0    13.658508    0.472211   \n",
       "2  2020-09-20 01:00:00+00:00                     0.0    13.670843    0.494018   \n",
       "3  2020-09-20 01:30:00+00:00                     0.0    13.732101    0.520214   \n",
       "4  2020-09-20 02:00:00+00:00                     0.0    13.793360    0.546410   \n",
       "\n",
       "                         dtm    MIP  Solar_MW  Solar_capacity_mwp  \\\n",
       "0  2020-09-20 00:00:00+00:00  20.06       0.0         2108.489754   \n",
       "1  2020-09-20 00:30:00+00:00  19.77       0.0         2108.489754   \n",
       "2  2020-09-20 01:00:00+00:00  28.68       0.0         2108.489754   \n",
       "3  2020-09-20 01:30:00+00:00  28.97       0.0         2108.489754   \n",
       "4  2020-09-20 02:00:00+00:00  28.19       0.0         2108.489754   \n",
       "\n",
       "   Solar_installedcapacity_mwp  Wind_MW  SS_Price  boa_MWh  DA_Price  \\\n",
       "0                  2206.064655  996.284      2.50      0.0     32.17   \n",
       "1                  2206.064655  957.576     15.00      0.0     32.17   \n",
       "2                  2206.064655  941.044     47.95      0.0     32.00   \n",
       "3                  2206.064655  964.366     29.13      0.0     32.00   \n",
       "4                  2206.064655  918.432     28.95      0.0     31.99   \n",
       "\n",
       "   Wind_MWh_credit  Solar_MWh_credit  \n",
       "0          498.142               0.0  \n",
       "1          478.788               0.0  \n",
       "2          470.522               0.0  \n",
       "3          482.183               0.0  \n",
       "4          459.216               0.0  "
      ]
     },
     "execution_count": 2,
     "metadata": {},
     "output_type": "execute_result"
    }
   ],
   "source": [
    "df = pd.read_csv(\"energy_no_outliers_drop_.csv\")\n",
    "df.head()"
   ]
  },
  {
   "cell_type": "code",
   "execution_count": 3,
   "metadata": {},
   "outputs": [
    {
     "data": {
      "text/html": [
       "<pre style=\"white-space:pre;overflow-x:auto;line-height:normal;font-family:Menlo,'DejaVu Sans Mono',consolas,'Courier New',monospace\">Non-numeric columns: <span style=\"color: #800080; text-decoration-color: #800080; font-weight: bold\">Index</span><span style=\"font-weight: bold\">([</span><span style=\"color: #008000; text-decoration-color: #008000\">'ref_datetime'</span>, <span style=\"color: #008000; text-decoration-color: #008000\">'valid_datetime'</span>, <span style=\"color: #008000; text-decoration-color: #008000\">'dtm'</span><span style=\"font-weight: bold\">]</span>, <span style=\"color: #808000; text-decoration-color: #808000\">dtype</span>=<span style=\"color: #008000; text-decoration-color: #008000\">'object'</span><span style=\"font-weight: bold\">)</span>\n",
       "</pre>\n"
      ],
      "text/plain": [
       "Non-numeric columns: \u001b[1;35mIndex\u001b[0m\u001b[1m(\u001b[0m\u001b[1m[\u001b[0m\u001b[32m'ref_datetime'\u001b[0m, \u001b[32m'valid_datetime'\u001b[0m, \u001b[32m'dtm'\u001b[0m\u001b[1m]\u001b[0m, \u001b[33mdtype\u001b[0m=\u001b[32m'object'\u001b[0m\u001b[1m)\u001b[0m\n"
      ]
     },
     "metadata": {},
     "output_type": "display_data"
    },
    {
     "data": {
      "text/html": [
       "<pre style=\"white-space:pre;overflow-x:auto;line-height:normal;font-family:Menlo,'DejaVu Sans Mono',consolas,'Courier New',monospace\">   SolarDownwardRadiation  Temperature  CloudCover  Solar_MW  \\\n",
       "<span style=\"color: #008080; text-decoration-color: #008080; font-weight: bold\">0</span>                     <span style=\"color: #008080; text-decoration-color: #008080; font-weight: bold\">0.0</span>    <span style=\"color: #008080; text-decoration-color: #008080; font-weight: bold\">13.646173</span>    <span style=\"color: #008080; text-decoration-color: #008080; font-weight: bold\">0.450405</span>       <span style=\"color: #008080; text-decoration-color: #008080; font-weight: bold\">0.0</span>   \n",
       "<span style=\"color: #008080; text-decoration-color: #008080; font-weight: bold\">1</span>                     <span style=\"color: #008080; text-decoration-color: #008080; font-weight: bold\">0.0</span>    <span style=\"color: #008080; text-decoration-color: #008080; font-weight: bold\">13.658508</span>    <span style=\"color: #008080; text-decoration-color: #008080; font-weight: bold\">0.472211</span>       <span style=\"color: #008080; text-decoration-color: #008080; font-weight: bold\">0.0</span>   \n",
       "<span style=\"color: #008080; text-decoration-color: #008080; font-weight: bold\">2</span>                     <span style=\"color: #008080; text-decoration-color: #008080; font-weight: bold\">0.0</span>    <span style=\"color: #008080; text-decoration-color: #008080; font-weight: bold\">13.670843</span>    <span style=\"color: #008080; text-decoration-color: #008080; font-weight: bold\">0.494018</span>       <span style=\"color: #008080; text-decoration-color: #008080; font-weight: bold\">0.0</span>   \n",
       "<span style=\"color: #008080; text-decoration-color: #008080; font-weight: bold\">3</span>                     <span style=\"color: #008080; text-decoration-color: #008080; font-weight: bold\">0.0</span>    <span style=\"color: #008080; text-decoration-color: #008080; font-weight: bold\">13.732101</span>    <span style=\"color: #008080; text-decoration-color: #008080; font-weight: bold\">0.520214</span>       <span style=\"color: #008080; text-decoration-color: #008080; font-weight: bold\">0.0</span>   \n",
       "<span style=\"color: #008080; text-decoration-color: #008080; font-weight: bold\">4</span>                     <span style=\"color: #008080; text-decoration-color: #008080; font-weight: bold\">0.0</span>    <span style=\"color: #008080; text-decoration-color: #008080; font-weight: bold\">13.793360</span>    <span style=\"color: #008080; text-decoration-color: #008080; font-weight: bold\">0.546410</span>       <span style=\"color: #008080; text-decoration-color: #008080; font-weight: bold\">0.0</span>   \n",
       "\n",
       "   Solar_capacity_mwp  year  month  day  time_minutes  \n",
       "<span style=\"color: #008080; text-decoration-color: #008080; font-weight: bold\">0</span>         <span style=\"color: #008080; text-decoration-color: #008080; font-weight: bold\">2108.489754</span>  <span style=\"color: #008080; text-decoration-color: #008080; font-weight: bold\">2020</span>      <span style=\"color: #008080; text-decoration-color: #008080; font-weight: bold\">9</span>   <span style=\"color: #008080; text-decoration-color: #008080; font-weight: bold\">20</span>             <span style=\"color: #008080; text-decoration-color: #008080; font-weight: bold\">0</span>  \n",
       "<span style=\"color: #008080; text-decoration-color: #008080; font-weight: bold\">1</span>         <span style=\"color: #008080; text-decoration-color: #008080; font-weight: bold\">2108.489754</span>  <span style=\"color: #008080; text-decoration-color: #008080; font-weight: bold\">2020</span>      <span style=\"color: #008080; text-decoration-color: #008080; font-weight: bold\">9</span>   <span style=\"color: #008080; text-decoration-color: #008080; font-weight: bold\">20</span>            <span style=\"color: #008080; text-decoration-color: #008080; font-weight: bold\">30</span>  \n",
       "<span style=\"color: #008080; text-decoration-color: #008080; font-weight: bold\">2</span>         <span style=\"color: #008080; text-decoration-color: #008080; font-weight: bold\">2108.489754</span>  <span style=\"color: #008080; text-decoration-color: #008080; font-weight: bold\">2020</span>      <span style=\"color: #008080; text-decoration-color: #008080; font-weight: bold\">9</span>   <span style=\"color: #008080; text-decoration-color: #008080; font-weight: bold\">20</span>            <span style=\"color: #008080; text-decoration-color: #008080; font-weight: bold\">60</span>  \n",
       "<span style=\"color: #008080; text-decoration-color: #008080; font-weight: bold\">3</span>         <span style=\"color: #008080; text-decoration-color: #008080; font-weight: bold\">2108.489754</span>  <span style=\"color: #008080; text-decoration-color: #008080; font-weight: bold\">2020</span>      <span style=\"color: #008080; text-decoration-color: #008080; font-weight: bold\">9</span>   <span style=\"color: #008080; text-decoration-color: #008080; font-weight: bold\">20</span>            <span style=\"color: #008080; text-decoration-color: #008080; font-weight: bold\">90</span>  \n",
       "<span style=\"color: #008080; text-decoration-color: #008080; font-weight: bold\">4</span>         <span style=\"color: #008080; text-decoration-color: #008080; font-weight: bold\">2108.489754</span>  <span style=\"color: #008080; text-decoration-color: #008080; font-weight: bold\">2020</span>      <span style=\"color: #008080; text-decoration-color: #008080; font-weight: bold\">9</span>   <span style=\"color: #008080; text-decoration-color: #008080; font-weight: bold\">20</span>           <span style=\"color: #008080; text-decoration-color: #008080; font-weight: bold\">120</span>  \n",
       "</pre>\n"
      ],
      "text/plain": [
       "   SolarDownwardRadiation  Temperature  CloudCover  Solar_MW  \\\n",
       "\u001b[1;36m0\u001b[0m                     \u001b[1;36m0.0\u001b[0m    \u001b[1;36m13.646173\u001b[0m    \u001b[1;36m0.450405\u001b[0m       \u001b[1;36m0.0\u001b[0m   \n",
       "\u001b[1;36m1\u001b[0m                     \u001b[1;36m0.0\u001b[0m    \u001b[1;36m13.658508\u001b[0m    \u001b[1;36m0.472211\u001b[0m       \u001b[1;36m0.0\u001b[0m   \n",
       "\u001b[1;36m2\u001b[0m                     \u001b[1;36m0.0\u001b[0m    \u001b[1;36m13.670843\u001b[0m    \u001b[1;36m0.494018\u001b[0m       \u001b[1;36m0.0\u001b[0m   \n",
       "\u001b[1;36m3\u001b[0m                     \u001b[1;36m0.0\u001b[0m    \u001b[1;36m13.732101\u001b[0m    \u001b[1;36m0.520214\u001b[0m       \u001b[1;36m0.0\u001b[0m   \n",
       "\u001b[1;36m4\u001b[0m                     \u001b[1;36m0.0\u001b[0m    \u001b[1;36m13.793360\u001b[0m    \u001b[1;36m0.546410\u001b[0m       \u001b[1;36m0.0\u001b[0m   \n",
       "\n",
       "   Solar_capacity_mwp  year  month  day  time_minutes  \n",
       "\u001b[1;36m0\u001b[0m         \u001b[1;36m2108.489754\u001b[0m  \u001b[1;36m2020\u001b[0m      \u001b[1;36m9\u001b[0m   \u001b[1;36m20\u001b[0m             \u001b[1;36m0\u001b[0m  \n",
       "\u001b[1;36m1\u001b[0m         \u001b[1;36m2108.489754\u001b[0m  \u001b[1;36m2020\u001b[0m      \u001b[1;36m9\u001b[0m   \u001b[1;36m20\u001b[0m            \u001b[1;36m30\u001b[0m  \n",
       "\u001b[1;36m2\u001b[0m         \u001b[1;36m2108.489754\u001b[0m  \u001b[1;36m2020\u001b[0m      \u001b[1;36m9\u001b[0m   \u001b[1;36m20\u001b[0m            \u001b[1;36m60\u001b[0m  \n",
       "\u001b[1;36m3\u001b[0m         \u001b[1;36m2108.489754\u001b[0m  \u001b[1;36m2020\u001b[0m      \u001b[1;36m9\u001b[0m   \u001b[1;36m20\u001b[0m            \u001b[1;36m90\u001b[0m  \n",
       "\u001b[1;36m4\u001b[0m         \u001b[1;36m2108.489754\u001b[0m  \u001b[1;36m2020\u001b[0m      \u001b[1;36m9\u001b[0m   \u001b[1;36m20\u001b[0m           \u001b[1;36m120\u001b[0m  \n"
      ]
     },
     "metadata": {},
     "output_type": "display_data"
    },
    {
     "data": {
      "text/plain": [
       "(279662, 9)"
      ]
     },
     "execution_count": 3,
     "metadata": {},
     "output_type": "execute_result"
    }
   ],
   "source": [
    "# Load the dataset\n",
    "df = pd.read_csv('energy_no_outliers_drop_.csv')\n",
    "\n",
    "# Convert datetime columns to datetime type\n",
    "df['dtm'] = pd.to_datetime(df['dtm'])\n",
    "df['ref_datetime'] = pd.to_datetime(df['ref_datetime'])\n",
    "df['valid_datetime'] = pd.to_datetime(df['valid_datetime'])\n",
    "\n",
    "# Check for non-numeric values in the DataFrame\n",
    "non_numeric_cols = df.select_dtypes(exclude=['number']).columns\n",
    "print(\"Non-numeric columns:\", non_numeric_cols)\n",
    "df.drop(columns=['ref_datetime', 'valid_datetime'], inplace=True)\n",
    "\n",
    "# Extract useful components\n",
    "df['year'] = df['dtm'].dt.year\n",
    "df['month'] = df['dtm'].dt.month\n",
    "df['day'] = df['dtm'].dt.day\n",
    "df['hour'] = df['dtm'].dt.hour\n",
    "df['minute'] = df['dtm'].dt.minute\n",
    "\n",
    "# # Convert time of day to minutes past midnight\n",
    "df['time_minutes'] = df['hour'] * 60 + df['minute']\n",
    "\n",
    "# # Drop original 'dtm' column and other intermediate columns\n",
    "df.drop(columns=['dtm', 'hour', 'minute', 'Wind_MW', 'SS_Price', 'DA_Price', 'Wind_MWh_credit', 'MIP', 'Solar_MWh_credit', 'Solar_installedcapacity_mwp', 'boa_MWh', 'Unnamed: 0.1', 'Unnamed: 0'], inplace=True)\n",
    "\n",
    "data = df.copy()\n",
    "# Check the modified dataframe\n",
    "print(df.head())\n",
    "df.shape"
   ]
  },
  {
   "cell_type": "markdown",
   "metadata": {},
   "source": [
    "# Model Prediction"
   ]
  },
  {
   "cell_type": "markdown",
   "metadata": {},
   "source": [
    "### For this problem, we need to predict the solar power production. We chose three models of machine learning that have different advantages:\n",
    "\n",
    "GradientBoostingRegressor (GBR):\n",
    "\n",
    "Robustness and precision: The GBR model builds several decision trees in series, where each tree corrects the errors of the previous tree. This creates a very precise model that can capture complex relationships between variables.\n",
    "Over-Learning Resistance: Through the boosting approach, GBR can avoid over-learning by gradually adjusting the model.\n",
    "Computation time: 45 seconds\n",
    "Pinball Loss: ~3.6\n",
    "\n",
    "RandomForestRegressor (RFR):\n",
    "\n",
    "Stability and generalization: The RFR model builds several decision trees in parallel and uses the mean of the predictions. This improves stability and reduces the risk of overlearning.\n",
    "Importance of variables: RFR also allows to assess the importance of variables, helping to identify the most influential factors on solar energy production.\n",
    "Management of missing values and outliers: RFR is robust to missing values and outliers, making it suitable for real data often imperfect.\n",
    "Computation time: 2 minutes and 30 seconds\n",
    "Pinball Loss: ~1.3\n",
    "\n",
    "LinearRegression (LR):\n",
    "\n",
    "Simplicity and speed: LR is a simple and quick-to-drive model, providing a basis for comparison for more complex models.\n",
    "Interpretability: LR provides direct coefficients that can be easily interpreted, making it possible to understand the influence of each variable on solar energy production.\n",
    "Performance on linear data: If the relationships between input variables and energy production are linear or almost linear, LR can give good performance.\n",
    "Computation time: 0.1 seconds\n",
    "Pinball Loss: ~7\n",
    "\n",
    "Analyse of the Models:\n",
    "\n",
    "RandomForestRegressor has the lowest Pinball Loss for median (1.3686), low (1.3545), and high (1.3826) production. This indicates that this model provides the most accurate predictions among the three models tested.\n",
    "GradientBoostingRegressor has intermediate Pinball Loss values (3.6853, 3.6922, 3.6784), which are less precise than those of the RandomForestRegressor but significantly better than those of the LinearRegression.\n",
    "LinearRegression has the highest Pinball Loss values (7.0576, 7.0269, 7.0883), indicating that its predictions are the least accurate.\n",
    "\n",
    "RandomForestRegressor is the best choice in terms of accuracy despite its longer computation time.\n",
    "GradientBoostingRegressor offers a good balance between accuracy and computation time.\n",
    "LinearRegression is not recommended, it does not make accurate predictions."
   ]
  },
  {
   "cell_type": "markdown",
   "metadata": {},
   "source": [
    "## GradientBoosting"
   ]
  },
  {
   "cell_type": "markdown",
   "metadata": {},
   "source": [
    "#### Première prédiction"
   ]
  },
  {
   "cell_type": "markdown",
   "metadata": {},
   "source": [
    "##### Toutes les features sont présentes, seulement les colonnes \"target\" sont retirées."
   ]
  },
  {
   "cell_type": "code",
   "execution_count": 4,
   "metadata": {},
   "outputs": [
    {
     "data": {
      "text/html": [
       "<pre style=\"white-space:pre;overflow-x:auto;line-height:normal;font-family:Menlo,'DejaVu Sans Mono',consolas,'Courier New',monospace\">Pinball Loss for Median Solar Power Production: <span style=\"color: #008080; text-decoration-color: #008080; font-weight: bold\">3.6654878670990163</span>\n",
       "</pre>\n"
      ],
      "text/plain": [
       "Pinball Loss for Median Solar Power Production: \u001b[1;36m3.6654878670990163\u001b[0m\n"
      ]
     },
     "metadata": {},
     "output_type": "display_data"
    },
    {
     "data": {
      "text/html": [
       "<pre style=\"white-space:pre;overflow-x:auto;line-height:normal;font-family:Menlo,'DejaVu Sans Mono',consolas,'Courier New',monospace\">Pinball Loss for Low Solar Power Production: <span style=\"color: #008080; text-decoration-color: #008080; font-weight: bold\">3.6671645396783226</span>\n",
       "</pre>\n"
      ],
      "text/plain": [
       "Pinball Loss for Low Solar Power Production: \u001b[1;36m3.6671645396783226\u001b[0m\n"
      ]
     },
     "metadata": {},
     "output_type": "display_data"
    },
    {
     "data": {
      "text/html": [
       "<pre style=\"white-space:pre;overflow-x:auto;line-height:normal;font-family:Menlo,'DejaVu Sans Mono',consolas,'Courier New',monospace\">Pinball Loss for High Solar Power Production: <span style=\"color: #008080; text-decoration-color: #008080; font-weight: bold\">3.6638111945197105</span>\n",
       "</pre>\n"
      ],
      "text/plain": [
       "Pinball Loss for High Solar Power Production: \u001b[1;36m3.6638111945197105\u001b[0m\n"
      ]
     },
     "metadata": {},
     "output_type": "display_data"
    },
    {
     "data": {
      "text/html": [
       "<pre style=\"white-space:pre;overflow-x:auto;line-height:normal;font-family:Menlo,'DejaVu Sans Mono',consolas,'Courier New',monospace\">Mean Squared Error <span style=\"font-weight: bold\">(</span>MSE<span style=\"font-weight: bold\">)</span>: <span style=\"color: #008080; text-decoration-color: #008080; font-weight: bold\">312.4730886387019</span>\n",
       "</pre>\n"
      ],
      "text/plain": [
       "Mean Squared Error \u001b[1m(\u001b[0mMSE\u001b[1m)\u001b[0m: \u001b[1;36m312.4730886387019\u001b[0m\n"
      ]
     },
     "metadata": {},
     "output_type": "display_data"
    },
    {
     "data": {
      "text/html": [
       "<pre style=\"white-space:pre;overflow-x:auto;line-height:normal;font-family:Menlo,'DejaVu Sans Mono',consolas,'Courier New',monospace\">Root Mean Squared Error <span style=\"font-weight: bold\">(</span>RMSE<span style=\"font-weight: bold\">)</span>: <span style=\"color: #008080; text-decoration-color: #008080; font-weight: bold\">17.67690834503313</span>\n",
       "</pre>\n"
      ],
      "text/plain": [
       "Root Mean Squared Error \u001b[1m(\u001b[0mRMSE\u001b[1m)\u001b[0m: \u001b[1;36m17.67690834503313\u001b[0m\n"
      ]
     },
     "metadata": {},
     "output_type": "display_data"
    },
    {
     "data": {
      "text/html": [
       "<pre style=\"white-space:pre;overflow-x:auto;line-height:normal;font-family:Menlo,'DejaVu Sans Mono',consolas,'Courier New',monospace\">Mean Absolute Error <span style=\"font-weight: bold\">(</span>MAE<span style=\"font-weight: bold\">)</span>: <span style=\"color: #008080; text-decoration-color: #008080; font-weight: bold\">7.330975734198033</span>\n",
       "</pre>\n"
      ],
      "text/plain": [
       "Mean Absolute Error \u001b[1m(\u001b[0mMAE\u001b[1m)\u001b[0m: \u001b[1;36m7.330975734198033\u001b[0m\n"
      ]
     },
     "metadata": {},
     "output_type": "display_data"
    }
   ],
   "source": [
    "# Define features and target variables\n",
    "X = df.drop(columns=['Solar_MW'])  # Features\n",
    "y_solar = df['Solar_MW']  # Solar target variable\n",
    "\n",
    "scaler = StandardScaler()\n",
    "\n",
    "# Fit the scaler on the feature data\n",
    "X_scaled = scaler.fit_transform(X)\n",
    "\n",
    "# Split the data into training and testing sets\n",
    "X_train, X_test, y_solar_train, y_solar_test = train_test_split(\n",
    "    X_scaled, y_solar, test_size=0.2, random_state=42)\n",
    "\n",
    "# Train separate gradient boosting models for Solar and Wind\n",
    "solar_model = GradientBoostingRegressor(random_state=42)\n",
    "solar_model.fit(X_train, y_solar_train)\n",
    "\n",
    "# Make predictions\n",
    "y_solar_pred = solar_model.predict(X_test)\n",
    "\n",
    "pinball_loss_solar1 = mean_pinball_loss(y_solar_pred, y_solar_test, alpha=0.5)\n",
    "print(\"Pinball Loss for Median Solar Power Production:\", pinball_loss_solar1)\n",
    "pinball_loss_solar2 = mean_pinball_loss(y_solar_pred, y_solar_test, alpha=0.05)\n",
    "print(\"Pinball Loss for Low Solar Power Production:\", pinball_loss_solar2)\n",
    "pinball_loss_solar3 = mean_pinball_loss(y_solar_pred, y_solar_test, alpha=0.95)\n",
    "print(\"Pinball Loss for High Solar Power Production:\", pinball_loss_solar3)\n",
    "\n",
    "# Evaluate the model using additional metrics\n",
    "mse = mean_squared_error(y_solar_test, y_solar_pred)\n",
    "rmse = np.sqrt(mse)\n",
    "mae = mean_absolute_error(y_solar_test, y_solar_pred)\n",
    "\n",
    "print(\"Mean Squared Error (MSE):\", mse)\n",
    "print(\"Root Mean Squared Error (RMSE):\", rmse)\n",
    "print(\"Mean Absolute Error (MAE):\", mae)"
   ]
  },
  {
   "cell_type": "markdown",
   "metadata": {},
   "source": [
    "##### Importance of the features :"
   ]
  },
  {
   "cell_type": "code",
   "execution_count": 5,
   "metadata": {},
   "outputs": [
    {
     "data": {
      "image/png": "[encoded data removed]",
      "text/plain": [
       "<Figure size 1000x600 with 1 Axes>"
      ]
     },
     "metadata": {},
     "output_type": "display_data"
    }
   ],
   "source": [
    "\n",
    "# Define features and target variables\n",
    "X = df.drop(columns=['Solar_MW'])  # Features\n",
    "y_solar = df['Solar_MW']  # Solar target variable\n",
    "\n",
    "scaler = StandardScaler()\n",
    "\n",
    "# Fit the scaler on the feature data\n",
    "X_scaled = scaler.fit_transform(X)\n",
    "\n",
    "# Split the data into training and testing sets\n",
    "X_train, X_test, y_solar_train, y_solar_test = train_test_split(\n",
    "    X_scaled, y_solar, test_size=0.2, random_state=42)\n",
    "\n",
    "# Initialize Gradient Boosting model\n",
    "gbm_model = GradientBoostingRegressor()\n",
    "\n",
    "# Fit the model\n",
    "gbm_model.fit(X_train, y_solar_train)\n",
    "\n",
    "# Get feature importances\n",
    "importances = gbm_model.feature_importances_\n",
    "\n",
    "# Sort feature importances in descending order\n",
    "indices = np.argsort(importances)[::-1]\n",
    "\n",
    "# Plot the feature importances\n",
    "plt.figure(figsize=(10, 6))\n",
    "plt.title(\"Feature Importances\")\n",
    "plt.bar(range(X_train.shape[1]), importances[indices], align=\"center\")\n",
    "plt.xticks(range(X_train.shape[1]), indices)\n",
    "plt.xlabel(\"Feature Index\")\n",
    "plt.ylabel(\"Feature Importance\")\n",
    "plt.show()"
   ]
  },
  {
   "cell_type": "code",
   "execution_count": 6,
   "metadata": {},
   "outputs": [],
   "source": [
    "# # Define features and target variables\n",
    "# X = df.drop(columns=['Solar_MW'])  # Features\n",
    "# y_solar = df['Solar_MW']  # Solar target variable\n",
    "\n",
    "# scaler = StandardScaler()\n",
    "\n",
    "# # Fit the scaler on the feature data\n",
    "# X_scaled = scaler.fit_transform(X)\n",
    "\n",
    "# # Split the data into training and testing sets\n",
    "# X_train, X_test, y_solar_train, y_solar_test = train_test_split(\n",
    "#     X_scaled, y_solar, test_size=0.2, random_state=42)\n",
    "\n",
    "# # Define the parameter grid for hyperparameter tuning\n",
    "# param_grid = {\n",
    "#     'n_estimators': [100, 200],  # Number of boosting stages\n",
    "#     'learning_rate': [0.01, 0.1],  # Learning rate (shrinkage)\n",
    "#     'max_depth': [3, 5],  # Maximum depth of the individual regression estimators\n",
    "# }\n",
    "\n",
    "# # Initialize GBM model\n",
    "# gbm_model = GradientBoostingRegressor(random_state=42)\n",
    "\n",
    "# # Initialize GridSearchCV with 5-fold cross-validation\n",
    "# grid_search = GridSearchCV(gbm_model, param_grid, cv=3, scoring='neg_mean_squared_error')\n",
    "\n",
    "# # Fit the GridSearchCV object to the data\n",
    "# grid_search.fit(X_train, y_solar_train)\n",
    "\n",
    "# # Get the best hyperparameters\n",
    "# best_params = grid_search.best_params_\n",
    "# print(\"Best Hyperparameters for Solar Power Production:\", best_params)"
   ]
  },
  {
   "cell_type": "markdown",
   "metadata": {},
   "source": [
    "### RandomForestRegressor"
   ]
  },
  {
   "cell_type": "code",
   "execution_count": null,
   "metadata": {},
   "outputs": [
    {
     "data": {
      "text/html": [
       "<pre style=\"white-space:pre;overflow-x:auto;line-height:normal;font-family:Menlo,'DejaVu Sans Mono',consolas,'Courier New',monospace\">Pinball Loss for Median Solar Power Production: <span style=\"color: #008080; text-decoration-color: #008080; font-weight: bold\">1.3685667610234005</span>\n",
       "</pre>\n"
      ],
      "text/plain": [
       "Pinball Loss for Median Solar Power Production: \u001b[1;36m1.3685667610234005\u001b[0m\n"
      ]
     },
     "metadata": {},
     "output_type": "display_data"
    },
    {
     "data": {
      "text/html": [
       "<pre style=\"white-space:pre;overflow-x:auto;line-height:normal;font-family:Menlo,'DejaVu Sans Mono',consolas,'Courier New',monospace\">Pinball Loss for Low Solar Power Production: <span style=\"color: #008080; text-decoration-color: #008080; font-weight: bold\">1.3545448130445943</span>\n",
       "</pre>\n"
      ],
      "text/plain": [
       "Pinball Loss for Low Solar Power Production: \u001b[1;36m1.3545448130445943\u001b[0m\n"
      ]
     },
     "metadata": {},
     "output_type": "display_data"
    },
    {
     "data": {
      "text/html": [
       "<pre style=\"white-space:pre;overflow-x:auto;line-height:normal;font-family:Menlo,'DejaVu Sans Mono',consolas,'Courier New',monospace\">Pinball Loss for High Solar Power Production: <span style=\"color: #008080; text-decoration-color: #008080; font-weight: bold\">1.3825887090022069</span>\n",
       "</pre>\n"
      ],
      "text/plain": [
       "Pinball Loss for High Solar Power Production: \u001b[1;36m1.3825887090022069\u001b[0m\n"
      ]
     },
     "metadata": {},
     "output_type": "display_data"
    }
   ],
   "source": [
    "# Define features and target variables\n",
    "X = df.drop(columns=['Solar_MW'])  # Features\n",
    "y_solar = df['Solar_MW']  # Solar target variable\n",
    "\n",
    "# Split the data into training and testing sets\n",
    "X_train, X_test, y_solar_train, y_solar_test = train_test_split(\n",
    "    X, y_solar, test_size=0.2, random_state=42)\n",
    "\n",
    "# Initialize and train a RandomForestRegressor model\n",
    "model = RandomForestRegressor(random_state=42)\n",
    "model.fit(X_train, y_solar_train)\n",
    "\n",
    "# Make predictions\n",
    "y_solar_pred = model.predict(X_test)\n",
    "\n",
    "# Evaluate the model\n",
    "pinball_loss_solar1 = mean_pinball_loss(y_solar_pred, y_solar_test, alpha=0.5)\n",
    "print(\"Pinball Loss for Median Solar Power Production:\", pinball_loss_solar1)\n",
    "pinball_loss_solar2 = mean_pinball_loss(y_solar_pred, y_solar_test, alpha=0.05)\n",
    "print(\"Pinball Loss for Low Solar Power Production:\", pinball_loss_solar2)\n",
    "pinball_loss_solar3 = mean_pinball_loss(y_solar_pred, y_solar_test, alpha=0.95)\n",
    "print(\"Pinball Loss for High Solar Power Production:\", pinball_loss_solar3)\n",
    "\n",
    "# Evaluate the model using additional metrics\n",
    "mse = mean_squared_error(y_solar_test, y_solar_pred)\n",
    "rmse = np.sqrt(mse)\n",
    "mae = mean_absolute_error(y_solar_test, y_solar_pred)\n",
    "\n",
    "print(\"Mean Squared Error (MSE):\", mse)\n",
    "print(\"Root Mean Squared Error (RMSE):\", rmse)\n",
    "print(\"Mean Absolute Error (MAE):\", mae)\n",
    "\n"
   ]
  },
  {
   "cell_type": "code",
   "execution_count": null,
   "metadata": {},
   "outputs": [
    {
     "data": {
      "image/png": "[encoded data removed]",
      "text/plain": [
       "<Figure size 1000x600 with 1 Axes>"
      ]
     },
     "metadata": {},
     "output_type": "display_data"
    }
   ],
   "source": [
    "# Define features and target variables\n",
    "X = df.drop(columns=['Solar_MW'])  # Features\n",
    "y_solar = df['Solar_MW']  # Solar target variable\n",
    "\n",
    "# Split the data into training and testing sets\n",
    "X_train, X_test, y_solar_train, y_solar_test = train_test_split(\n",
    "    X, y_solar, test_size=0.2, random_state=42)\n",
    "\n",
    "# Initialize Gradient Boosting model\n",
    "rfr_model = RandomForestRegressor()\n",
    "\n",
    "# Fit the model\n",
    "rfr_model.fit(X_train, y_solar_train)\n",
    "\n",
    "# Get feature importances\n",
    "importances = rfr_model.feature_importances_\n",
    "\n",
    "\n",
    "\n",
    "# Sort feature importances in descending order\n",
    "indices = np.argsort(importances)[::-1]\n",
    "\n",
    "# Plot the feature importances\n",
    "plt.figure(figsize=(10, 6))\n",
    "plt.title(\"Feature Importances\")\n",
    "plt.bar(range(X_train.shape[1]), importances[indices], align=\"center\")\n",
    "plt.xticks(range(X_train.shape[1]), indices)\n",
    "plt.xlabel(\"Feature Index\")\n",
    "plt.ylabel(\"Feature Importance\")\n",
    "plt.show()"
   ]
  },
  {
   "cell_type": "markdown",
   "metadata": {},
   "source": [
    "## Linear Regression"
   ]
  },
  {
   "cell_type": "code",
   "execution_count": null,
   "metadata": {},
   "outputs": [
    {
     "data": {
      "text/html": [
       "<pre style=\"white-space:pre;overflow-x:auto;line-height:normal;font-family:Menlo,'DejaVu Sans Mono',consolas,'Courier New',monospace\">Pinball Loss for Median Solar Power Production: <span style=\"color: #008080; text-decoration-color: #008080; font-weight: bold\">7.057567704182342</span>\n",
       "</pre>\n"
      ],
      "text/plain": [
       "Pinball Loss for Median Solar Power Production: \u001b[1;36m7.057567704182342\u001b[0m\n"
      ]
     },
     "metadata": {},
     "output_type": "display_data"
    },
    {
     "data": {
      "text/html": [
       "<pre style=\"white-space:pre;overflow-x:auto;line-height:normal;font-family:Menlo,'DejaVu Sans Mono',consolas,'Courier New',monospace\">Pinball Loss for Low Solar Power Production: <span style=\"color: #008080; text-decoration-color: #008080; font-weight: bold\">7.0268728358983825</span>\n",
       "</pre>\n"
      ],
      "text/plain": [
       "Pinball Loss for Low Solar Power Production: \u001b[1;36m7.0268728358983825\u001b[0m\n"
      ]
     },
     "metadata": {},
     "output_type": "display_data"
    },
    {
     "data": {
      "text/html": [
       "<pre style=\"white-space:pre;overflow-x:auto;line-height:normal;font-family:Menlo,'DejaVu Sans Mono',consolas,'Courier New',monospace\">Pinball Loss for High Solar Power Production: <span style=\"color: #008080; text-decoration-color: #008080; font-weight: bold\">7.088262572466303</span>\n",
       "</pre>\n"
      ],
      "text/plain": [
       "Pinball Loss for High Solar Power Production: \u001b[1;36m7.088262572466303\u001b[0m\n"
      ]
     },
     "metadata": {},
     "output_type": "display_data"
    }
   ],
   "source": [
    "# Define features and target variables\n",
    "X = df.drop(columns=['Solar_MW'])  # Features\n",
    "y_solar = df['Solar_MW']  # Solar target variable\n",
    "\n",
    "# Split the data into training and testing sets\n",
    "X_train, X_test, y_solar_train, y_solar_test = train_test_split(\n",
    "    X, y_solar, test_size=0.2, random_state=42)\n",
    "\n",
    "# Train separate linear regression models for Solar and Wind\n",
    "solar_model = LinearRegression()\n",
    "solar_model.fit(X_train, y_solar_train)\n",
    "\n",
    "# Make predictions\n",
    "y_solar_pred = solar_model.predict(X_test)\n",
    "\n",
    "# Combine predictions\n",
    "\n",
    "# Evaluate the combined prediction using Pinball Loss\n",
    "pinball_loss_total1 = mean_pinball_loss(y_solar_pred, y_solar_test, alpha=0.5)\n",
    "print(\"Pinball Loss for Median Solar Power Production:\", pinball_loss_total1)\n",
    "pinball_loss_total2 = mean_pinball_loss(y_solar_pred, y_solar_test, alpha=0.05)\n",
    "print(\"Pinball Loss for Low Solar Power Production:\", pinball_loss_total2)\n",
    "pinball_loss_total3 = mean_pinball_loss(y_solar_pred, y_solar_test, alpha=0.95)\n",
    "print(\"Pinball Loss for High Solar Power Production:\", pinball_loss_total3)\n",
    "\n",
    "# Evaluate the model using additional metrics\n",
    "mse = mean_squared_error(y_solar_test, y_solar_pred)\n",
    "rmse = np.sqrt(mse)\n",
    "mae = mean_absolute_error(y_solar_test, y_solar_pred)\n",
    "\n",
    "print(\"Mean Squared Error (MSE):\", mse)\n",
    "print(\"Root Mean Squared Error (RMSE):\", rmse)\n",
    "print(\"Mean Absolute Error (MAE):\", mae)"
   ]
  }
 ],
 "metadata": {
  "kernelspec": {
   "display_name": "Python 3",
   "language": "python",
   "name": "python3"
  },
  "language_info": {
   "codemirror_mode": {
    "name": "ipython",
    "version": 3
   },
   "file_extension": ".py",
   "mimetype": "text/x-python",
   "name": "python",
   "nbconvert_exporter": "python",
   "pygments_lexer": "ipython3",
   "version": "3.12.3"
  }
 },
 "nbformat": 4,
 "nbformat_minor": 2
}
